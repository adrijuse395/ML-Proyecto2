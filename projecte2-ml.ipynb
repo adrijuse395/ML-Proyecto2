{
 "cells": [
  {
   "cell_type": "code",
   "execution_count": 1,
   "id": "bb28688e",
   "metadata": {
    "_cell_guid": "58b4cd9c-450a-45a9-a0dd-03c0cd7d0dda",
    "_uuid": "67a9d6de-1fb6-4918-8b50-8f7e16086a53",
    "collapsed": false,
    "execution": {
     "iopub.execute_input": "2025-10-31T23:20:23.574737Z",
     "iopub.status.busy": "2025-10-31T23:20:23.574318Z",
     "iopub.status.idle": "2025-10-31T23:20:27.242644Z",
     "shell.execute_reply": "2025-10-31T23:20:27.241565Z"
    },
    "jupyter": {
     "outputs_hidden": false
    },
    "papermill": {
     "duration": 3.674138,
     "end_time": "2025-10-31T23:20:27.244643",
     "exception": false,
     "start_time": "2025-10-31T23:20:23.570505",
     "status": "completed"
    },
    "tags": []
   },
   "outputs": [],
   "source": [
    "# some imports\n",
    "# Python ≥3.5 is required\n",
    "import sys\n",
    "assert sys.version_info >= (3, 5)\n",
    "\n",
    "# Scikit-Learn ≥0.20 is required\n",
    "import sklearn\n",
    "assert sklearn.__version__ >= \"0.20\"\n",
    "\n",
    "# Common imports\n",
    "import numpy as np\n",
    "import os\n",
    "\n",
    "# to make this notebook's output stable across runs\n",
    "np.random.seed(42)\n",
    "\n",
    "# To plot pretty figures\n",
    "%matplotlib inline\n",
    "import matplotlib as mpl\n",
    "import matplotlib.pyplot as plt\n",
    "mpl.rc('axes', labelsize=14)\n",
    "mpl.rc('xtick', labelsize=12)\n",
    "mpl.rc('ytick', labelsize=12)\n",
    "plt.rc('font', size=12) \n",
    "plt.rc('figure', figsize = (12, 5))\n",
    "\n",
    "# Settings for the visualizations\n",
    "import seaborn as sns\n",
    "sns.set_style(\"whitegrid\")\n",
    "sns.set_context(\"notebook\", font_scale=1, rc={\"lines.linewidth\": 2,'font.family': [u'times']})\n",
    "sns.set_theme(style=\"darkgrid\", context=\"talk\", palette=\"mako\")\n",
    "\n",
    "import pandas as pd\n",
    "pd.set_option('display.max_rows', 25)\n",
    "pd.set_option('display.max_columns', 500)\n",
    "pd.set_option('display.max_colwidth', 50)\n",
    "\n",
    "# Ignore useless warnings (see SciPy issue #5998)\n",
    "import warnings\n",
    "warnings.filterwarnings(action=\"ignore\", message=\"^internal gelsd\")\n",
    "warnings.filterwarnings(\"ignore\")\n",
    "\n",
    "# create output folder\n",
    "if not os.path.exists('output'):\n",
    "    os.makedirs('output')\n",
    "if not os.path.exists('output/session1'):\n",
    "    os.makedirs('output/session1')"
   ]
  },
  {
   "cell_type": "code",
   "execution_count": 2,
   "id": "f34e1052",
   "metadata": {
    "_cell_guid": "c5bf772d-7482-4f55-9d8d-b673381e99f0",
    "_uuid": "03821f5a-e0b8-4882-a8e4-c67afb2e9da8",
    "collapsed": false,
    "execution": {
     "iopub.execute_input": "2025-10-31T23:20:27.250239Z",
     "iopub.status.busy": "2025-10-31T23:20:27.249708Z",
     "iopub.status.idle": "2025-10-31T23:20:28.402243Z",
     "shell.execute_reply": "2025-10-31T23:20:28.401193Z"
    },
    "jupyter": {
     "outputs_hidden": false
    },
    "papermill": {
     "duration": 1.156932,
     "end_time": "2025-10-31T23:20:28.403934",
     "exception": false,
     "start_time": "2025-10-31T23:20:27.247002",
     "status": "completed"
    },
    "tags": []
   },
   "outputs": [
    {
     "name": "stdout",
     "output_type": "stream",
     "text": [
      "✅ ¡Sumisión inicial generada con éxito!\n",
      "Las primeras 5 filas del archivo submission.csv:\n",
      "      id  loan_status\n",
      "0  43983     0.135446\n",
      "1  43984     0.002643\n",
      "2  43985     0.849973\n",
      "3  43986     0.000325\n",
      "4  43987     0.055379\n"
     ]
    }
   ],
   "source": [
    "import pandas as pd\n",
    "import numpy as np\n",
    "from sklearn.linear_model import LogisticRegression\n",
    "from sklearn.model_selection import train_test_split\n",
    "from sklearn.preprocessing import LabelEncoder\n",
    "from sklearn.impute import SimpleImputer\n",
    "from sklearn.preprocessing import StandardScaler\n",
    "\n",
    "# --- 1. Cargar Datos ---\n",
    "try:\n",
    "    # Ajustando las rutas a las que has proporcionado (aunque la estructura del archivo .csv difiere un poco)\n",
    "    # Asumo que las rutas completas en Kaggle son las que mencionas en el prompt,\n",
    "    # pero a menudo los notebooks usan una forma más corta. Uso tus rutas específicas:\n",
    "    train_df = pd.read_csv('/kaggle/input/ml-ub-2025-project-2/train.csv', index_col=0)\n",
    "    test_df = pd.read_csv('/kaggle/input/ml-ub-2025-project-2/test_features.csv', index_col=0)\n",
    "    \n",
    "    # Revisión de los nombres de los archivos originales del prompt de Kaggle vs las rutas:\n",
    "    # Archivos originales: train.csv, test_features.csv\n",
    "    # Rutas proporcionadas: train_set.csv, test_set.csv\n",
    "    # Usaré las rutas proporcionadas, asumiendo que son las correctas para el entorno.\n",
    "\n",
    "except FileNotFoundError:\n",
    "    print(\"Error: Asegúrate de que las rutas de los archivos son correctas en tu entorno Kaggle.\")\n",
    "    \n",
    "# --- 2. Preprocesamiento Básico ---\n",
    "# Convertir la variable objetivo 'loan_status' a numérica (0/1)\n",
    "le = LabelEncoder()\n",
    "train_df['loan_status'] = le.fit_transform(train_df['loan_status'])\n",
    "\n",
    "# Identificar columnas categóricas y numéricas (muy simple)\n",
    "categorical_cols = train_df.select_dtypes(include=['object']).columns\n",
    "numerical_cols = train_df.select_dtypes(include=['int64', 'float64']).columns.drop('loan_status')\n",
    "\n",
    "# Codificación One-Hot para variables categóricas\n",
    "train_df = pd.get_dummies(train_df, columns=categorical_cols, drop_first=True)\n",
    "test_df = pd.get_dummies(test_df, columns=categorical_cols, drop_first=True)\n",
    "\n",
    "# Asegurar que ambos conjuntos tienen las mismas columnas después de OHE (crucial para Kaggle)\n",
    "train_cols = set(train_df.columns) - set(['loan_status'])\n",
    "test_cols = set(test_df.columns)\n",
    "common_features = list(train_cols.intersection(test_cols))\n",
    "\n",
    "X_train = train_df[common_features]\n",
    "y_train = train_df['loan_status']\n",
    "X_test_kaggle = test_df[common_features]\n",
    "\n",
    "# Imputación de valores faltantes (usando la media para todos los tipos)\n",
    "imputer = SimpleImputer(strategy='mean')\n",
    "X_train = pd.DataFrame(imputer.fit_transform(X_train), columns=X_train.columns)\n",
    "X_test_kaggle = pd.DataFrame(imputer.transform(X_test_kaggle), columns=X_test_kaggle.columns)\n",
    "\n",
    "# Escalado (no siempre necesario para LR, pero buena práctica)\n",
    "scaler = StandardScaler()\n",
    "X_train_scaled = scaler.fit_transform(X_train)\n",
    "X_test_kaggle_scaled = scaler.transform(X_test_kaggle)\n",
    "\n",
    "\n",
    "# --- 3. Entrenamiento del Modelo y Predicción ---\n",
    "# Inicializar y entrenar el modelo de Regresión Logística\n",
    "model = LogisticRegression(solver='liblinear', random_state=42)\n",
    "model.fit(X_train_scaled, y_train)\n",
    "\n",
    "# Predecir las probabilidades para el conjunto de prueba (la probabilidad de la clase 1)\n",
    "# Esto predice la probabilidad, que asumo es el formato de la columna 'Price'\n",
    "y_pred_proba = model.predict_proba(X_test_kaggle_scaled)[:, 1]\n",
    "\n",
    "\n",
    "# --- 4. Generación del Archivo de Sumisión ---\n",
    "# Crear el DataFrame de salida\n",
    "df_output = pd.DataFrame(y_pred_proba)\n",
    "df_output = df_output.reset_index()\n",
    "\n",
    "# La columna 'index' es el ID de la fila y la columna de predicción se llama 'loan_status'\n",
    "# (Asumo que el target en 'sample_submission.csv' se llama 'loan_status', basándome en el prompt)\n",
    "df_output.columns = ['id', 'loan_status'] # Nota: Usé 'loan_status' aquí, ya que el target es binario.\n",
    "\n",
    "# El prompt indica 'Price', pero el target es 'loan_status'. Me ciño a la convención del target binario.\n",
    "# Si el archivo sample_submission usa 'Price', simplemente cambia 'loan_status' por 'Price' en la línea anterior.\n",
    "\n",
    "# Si el formato esperado es:\n",
    "# df_output.columns = ['index','Price'] # Descomentar esta línea si 'Price' es el nombre de la columna\n",
    "\n",
    "# Asignar el índice del test set al 'index' de salida\n",
    "df_output['id'] = test_df.index.values\n",
    "\n",
    "# Guardar la sumisión\n",
    "df_output.to_csv('/kaggle/working/submission.csv', index=False)\n",
    "\n",
    "print(\"✅ ¡Sumisión inicial generada con éxito!\")\n",
    "print(f\"Las primeras 5 filas del archivo submission.csv:\")\n",
    "print(df_output.head())"
   ]
  },
  {
   "cell_type": "code",
   "execution_count": null,
   "id": "08de6e2e",
   "metadata": {
    "_cell_guid": "030a71e3-21ec-4168-839b-7fb4edcf1c9b",
    "_uuid": "391fb902-f60a-4c64-a35b-9542564a6d85",
    "collapsed": false,
    "jupyter": {
     "outputs_hidden": false
    },
    "papermill": {
     "duration": 0.001622,
     "end_time": "2025-10-31T23:20:28.407491",
     "exception": false,
     "start_time": "2025-10-31T23:20:28.405869",
     "status": "completed"
    },
    "tags": []
   },
   "outputs": [],
   "source": []
  }
 ],
 "metadata": {
  "kaggle": {
   "accelerator": "none",
   "dataSources": [
    {
     "databundleVersionId": 14056483,
     "sourceId": 117325,
     "sourceType": "competition"
    }
   ],
   "dockerImageVersionId": 31153,
   "isGpuEnabled": false,
   "isInternetEnabled": true,
   "language": "python",
   "sourceType": "notebook"
  },
  "kernelspec": {
   "display_name": "Python 3",
   "language": "python",
   "name": "python3"
  },
  "language_info": {
   "codemirror_mode": {
    "name": "ipython",
    "version": 3
   },
   "file_extension": ".py",
   "mimetype": "text/x-python",
   "name": "python",
   "nbconvert_exporter": "python",
   "pygments_lexer": "ipython3",
   "version": "3.11.13"
  },
  "papermill": {
   "default_parameters": {},
   "duration": 10.461943,
   "end_time": "2025-10-31T23:20:29.129718",
   "environment_variables": {},
   "exception": null,
   "input_path": "__notebook__.ipynb",
   "output_path": "__notebook__.ipynb",
   "parameters": {},
   "start_time": "2025-10-31T23:20:18.667775",
   "version": "2.6.0"
  }
 },
 "nbformat": 4,
 "nbformat_minor": 5
}
